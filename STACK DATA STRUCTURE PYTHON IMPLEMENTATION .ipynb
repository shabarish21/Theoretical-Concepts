{
 "cells": [
  {
   "cell_type": "markdown",
   "id": "90466c95",
   "metadata": {},
   "source": [
    "# STACK "
   ]
  },
  {
   "cell_type": "markdown",
   "id": "f860114f",
   "metadata": {},
   "source": [
    "Desc:\n",
    "* A stack is a linear data structure used to store data in a **last in first out(LIFO)** method. \n",
    "* That is we can remove the last added element first. Its similar to arranging a pile of books one on top of another and removing the top one. \n",
    "* New element is added at one end and removal of an element is also from that very end. \n",
    "* We can add, remove, find the length of the stack at any given moment. \n",
    "* In python we can implement the stack data structure with the existing list data structure. \n",
    "* We can use append() method to push an element, pop() method to pop/remove an element and we can use len() to check the size of the stack.\n",
    "* Stack in real time is used in undo/redo an operation, can be used in recursion. "
   ]
  },
  {
   "cell_type": "code",
   "execution_count": 25,
   "id": "c3e327c6",
   "metadata": {},
   "outputs": [],
   "source": [
    "#Stack Implementation using list. \n",
    "Stack = []  #We declare a list to implement the stack operations. "
   ]
  },
  {
   "cell_type": "markdown",
   "id": "6f75d44c",
   "metadata": {},
   "source": [
    "**Pushing an element:**"
   ]
  },
  {
   "cell_type": "code",
   "execution_count": 27,
   "id": "1c578fd3",
   "metadata": {},
   "outputs": [
    {
     "name": "stdout",
     "output_type": "stream",
     "text": [
      "Enter element: 2\n",
      "Enter element: 3\n",
      "Enter element: 4\n",
      "Enter element: 5\n"
     ]
    }
   ],
   "source": [
    "Stack.append(int(input('Enter element: ')))\n",
    "Stack.append(int(input('Enter element: ')))\n",
    "Stack.append(int(input('Enter element: ')))\n",
    "Stack.append(int(input('Enter element: ')))"
   ]
  },
  {
   "cell_type": "code",
   "execution_count": 28,
   "id": "656072c7",
   "metadata": {},
   "outputs": [
    {
     "data": {
      "text/plain": [
       "[2, 3, 4, 5]"
      ]
     },
     "execution_count": 28,
     "metadata": {},
     "output_type": "execute_result"
    }
   ],
   "source": [
    "Stack  #Elements are pushed into the stack from left to right. The latest added element is the rightmost end. "
   ]
  },
  {
   "cell_type": "markdown",
   "id": "93f8db98",
   "metadata": {},
   "source": [
    "**Popping an element:**"
   ]
  },
  {
   "cell_type": "code",
   "execution_count": 29,
   "id": "73e87662",
   "metadata": {
    "scrolled": true
   },
   "outputs": [
    {
     "data": {
      "text/plain": [
       "5"
      ]
     },
     "execution_count": 29,
     "metadata": {},
     "output_type": "execute_result"
    }
   ],
   "source": [
    "Stack.pop() #The last added element and the element in the rightmost end is popped. So pushing and popping ocurs in on end."
   ]
  },
  {
   "cell_type": "code",
   "execution_count": 30,
   "id": "944a5a15",
   "metadata": {},
   "outputs": [
    {
     "data": {
      "text/plain": [
       "4"
      ]
     },
     "execution_count": 30,
     "metadata": {},
     "output_type": "execute_result"
    }
   ],
   "source": [
    "Stack.pop()"
   ]
  },
  {
   "cell_type": "code",
   "execution_count": 31,
   "id": "aa502532",
   "metadata": {},
   "outputs": [
    {
     "data": {
      "text/plain": [
       "[2, 3]"
      ]
     },
     "execution_count": 31,
     "metadata": {},
     "output_type": "execute_result"
    }
   ],
   "source": [
    "Stack"
   ]
  },
  {
   "cell_type": "code",
   "execution_count": 32,
   "id": "98158896",
   "metadata": {},
   "outputs": [
    {
     "data": {
      "text/plain": [
       "2"
      ]
     },
     "execution_count": 32,
     "metadata": {},
     "output_type": "execute_result"
    }
   ],
   "source": [
    "len(Stack) #Checking length of the stack. "
   ]
  },
  {
   "cell_type": "code",
   "execution_count": null,
   "id": "4f6a0754",
   "metadata": {},
   "outputs": [],
   "source": []
  }
 ],
 "metadata": {
  "kernelspec": {
   "display_name": "Python 3 (ipykernel)",
   "language": "python",
   "name": "python3"
  },
  "language_info": {
   "codemirror_mode": {
    "name": "ipython",
    "version": 3
   },
   "file_extension": ".py",
   "mimetype": "text/x-python",
   "name": "python",
   "nbconvert_exporter": "python",
   "pygments_lexer": "ipython3",
   "version": "3.11.5"
  }
 },
 "nbformat": 4,
 "nbformat_minor": 5
}
